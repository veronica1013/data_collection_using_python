{
  "cells": [
    {
      "cell_type": "markdown",
      "source": [
        "# How to Read Xml file to a Pandas Dataframe using Python.\n",
        "This notebook provide the steps that one will take to read specific columns from an xml file using pandas, python and xmltodict parse function."
      ],
      "metadata": {
        "id": "19T7JskF6Om1"
      }
    },
    {
      "cell_type": "code",
      "source": [
        "# Install xmltodict\n",
        "!pip install xmltodict"
      ],
      "metadata": {
        "colab": {
          "base_uri": "https://localhost:8080/"
        },
        "id": "WGixARBW4xad",
        "outputId": "cd5de489-a9f6-4f6f-f066-bde7499f97e2"
      },
      "execution_count": 2,
      "outputs": [
        {
          "output_type": "stream",
          "name": "stdout",
          "text": [
            "Looking in indexes: https://pypi.org/simple, https://us-python.pkg.dev/colab-wheels/public/simple/\n",
            "Collecting xmltodict\n",
            "  Downloading xmltodict-0.13.0-py2.py3-none-any.whl (10.0 kB)\n",
            "Installing collected packages: xmltodict\n",
            "Successfully installed xmltodict-0.13.0\n"
          ]
        }
      ]
    },
    {
      "cell_type": "code",
      "execution_count": 3,
      "metadata": {
        "id": "elkcW38b3tkU"
      },
      "outputs": [],
      "source": [
        "# Import relevant libraries\n",
        "from collections import defaultdict\n",
        "import datetime\n",
        "import io\n",
        "import pandas as pd\n",
        "import requests\n",
        "import xmltodict\n",
        "import zipfile"
      ]
    },
    {
      "cell_type": "code",
      "execution_count": 4,
      "metadata": {
        "id": "bbz1Wmqp3tkb"
      },
      "outputs": [],
      "source": [
        "# Create a function that will read the xml url\n",
        "def read_s3_xml(xml_url):\n",
        "  studies_file = 'xml_files/studies.xml'\n",
        "  response = requests.get(xml_url)\n",
        "  with zipfile.ZipFile(io.BytesIO(response.content)) as zf:\n",
        "    with zf.open(studies_file) as f:\n",
        "      return xmltodict.parse(f.read())['bibdataset']['item']"
      ]
    },
    {
      "cell_type": "code",
      "execution_count": 22,
      "metadata": {
        "id": "ye4-C25I3tkd"
      },
      "outputs": [],
      "source": [
        "# Create a function that will return publication date in datetime format\n",
        "def parse_pub_date(head_data):\n",
        "  pub_date = head_data['source']['publicationdate']\n",
        "  pub_date = datetime.datetime(int(pub_date['year']), int(pub_date['month']), int(pub_date['day']))\n",
        "  return pub_date\n",
        "\n",
        "# Create a function that will return a default dictionary from an xml file\n",
        "def parse_xml_data(xml_file):\n",
        "  data_pd = defaultdict(list)\n",
        "  for data in read_s3_xml(xml_file):\n",
        "    head_data = data['bibrecord']['head']\n",
        "    data_pd['publication_date'].append(parse_pub_date(head_data).date())\n",
        "    data_pd['title'].append(head_data['citation-title']['titletext']['#text'])\n",
        "    data_pd['doi'].append(data['bibrecord']['item-info']['itemidlist'].get('ce:doi', ''))\n",
        "    data_pd['abstract'].append(head_data['abstracts']['abstract']['ce:para'])\n",
        "  return data_pd\n"
      ]
    },
    {
      "cell_type": "code",
      "source": [
        "# Display all items in the column using maximum column\n",
        "pd.set_option('display.max_columns', 100000)"
      ],
      "metadata": {
        "id": "N69B-6HX5W47"
      },
      "execution_count": 23,
      "outputs": []
    },
    {
      "cell_type": "code",
      "execution_count": 25,
      "metadata": {
        "colab": {
          "base_uri": "https://localhost:8080/",
          "height": 1000
        },
        "id": "5dpGlxlL3tke",
        "outputId": "a8932b97-50d2-42a0-e980-5c655526f1f4"
      },
      "outputs": [
        {
          "output_type": "execute_result",
          "data": {
            "text/plain": [
              "  publication_date  \\\n",
              "0       2008-03-09   \n",
              "1       2008-02-05   \n",
              "2       2008-01-12   \n",
              "3       2008-03-20   \n",
              "4       2008-04-07   \n",
              "5       2008-02-13   \n",
              "6       2008-02-23   \n",
              "\n",
              "                                                                                                      title  \\\n",
              "0              Mechanographic characteristics of adolescents and young adults with congenital heart disease   \n",
              "1                                      Treatment options in imatinib-resistant chronic myelogenous leukemia   \n",
              "2                                                                        Women deliver: A global conference   \n",
              "3  Formation of circular patterns of calcium oxalate crystals at defective sites of Langmuir-Blodgett films   \n",
              "4                      Trends in adult post-kidney transplant immunosuppressive use in Australia, 1991-2005   \n",
              "5                                                    Anion-Induced Adsorption of Ferrocenated Nanoparticles   \n",
              "6                   Headache in a Nonclinical Population in Dares Salaam, Tanzania. A Community-Based Study   \n",
              "\n",
              "                                     doi  \\\n",
              "0              10.1007/s00431-007-0495-y   \n",
              "1                      10.1345/aph.1K303   \n",
              "2                10.1586/17474108.3.1.33   \n",
              "3         10.1016/j.colsurfa.2007.10.012   \n",
              "4       10.1111/j.1440-1797.2007.00859.x   \n",
              "5                      10.1021/ja074161f   \n",
              "6  10.1111/j.1526-4610.1995.hed3505273.x   \n",
              "\n",
              "                                                                                                                                                                                                                                                                                                                                                                                                                                                                                                                                                                                                                                                                                                                                                                                                                                                                                                                                                                                                                                                                                                                                                                                                                                                                                                                                                                                                                                                                                                                                                                                                                                                                                                                                                                                                                                                                                                                                                                                                                                                                                                                                                                                                                                                                                                                                                 abstract  \n",
              "0                                                                                                                                                                                                                                                                                                                                                                                                                                                                                                                                                                                                                                                                                                                                                                                                                                                                                                                                                                                                                                                                                                                                                                                          The present study comprised 29 adolescents and young adults (15 females, 14 males; aged 14.1-23.9 years) with congenital heart disease (CHD) and focused on the interaction between the biomechanical system and CHD. Individuals were characterized by auxological (height, weight), dynamometric (MIGF, maximal isometric grip force) and mechanograpic parameters (Vmax, maximal velocity; PJF, peak jump force; PJP, peak jump power; time of five stand-ups in chair-rising test). PJF, PJP and MIGF were transformed into height-related SD-scores. MIGF-SDS and PJP-SDS were lower in the CHD patients than in reference individuals. PJP-SDS was lower than PJF-SDS. PJP-SDS was correlated to Vmax (r=0.62) and to the time of five-stand-ups in chair-rising (r=-0.62). Transcutaneous oxygen saturation and NYHA classes were correlated to Vmax (r=0.42 and r=-0.57, respectively) and to chair-rising performance (r=-0.60 and r=0.50, respectively). To conclude, individuals with CHD are characterized by an impaired inter- and intramuscular coordination, which is characterized by a greater decrease in muscular power than muscle force.  \n",
              "1                                                                                                                                                                                                                                                                                                                                                                                                                                                                                                                                                                                                                                                                                                                                                                                                                                                                                                                                                                                    Objective: To discuss new therapeutic options available in the treatment of chronic myelogenous leukemia (CML) in patients who failed or were intolerant to imatinib therapy.\\nSearch terms included imatinib, dasatinib, nilotinib, and chronic myelogenous leukemia.\\nStudy selection and data extraction: Meeting abstracts and studies that reported preclinical and Phase 1, 2, and 3 trials published in English are included.\\nData synthesis: Imatinib is the standard of care for CML; however, some patients develop resistance or are intolerant to the drug. Phase 1 and 2 clinical data for the more potent tyrosine kinase inhibitors, dasatinib and nilotinib, are promising. Hematologic and cytogenetic responses are reported with both. There does not appear to be cross-resistance between the drugs, although neither is effective against all mutations of the hallmark molecular marker, the Philadelphia chromosome. Novel agents are also being examined for the treatment of patients with CML, including aurora kinase and farnesyl transferase inhibitors, as well as combination therapies.\\nConclusions: Dasatinib and nilotinib are second-line options for patients who have CML and are resistant or intolerant to imatinib. Toxicity profiles between agents may differ. Clinical trials with these drugs and others are ongoing.  \n",
              "2                                                                                                                                                                                                                                                                                                                                                                                                                                                                                                                                                                                                                                                                                                                                                                                                                                                                                                                                                                                                                                                             A large international conference was held in London in October 2007 to celebrate 20 years of the Safe Motherhood Initiative. Launched in Nairobi, in 1987 by the WHO, the United Nations Population Fund and the World Bank, and joined by the United Nations Development Programme, the United Nations Children's Fund, the International Planned Parenthood Federation and the Population Council shortly thereafter, the initiative aimed at addressing the then neglected high maternal death rates in poor countries. Now, 20 years later, we can see that, while some progress has been made, the regions with the poorest maternal health have made the least progress: sub-Saharan Africa and South Asia. The objectives of the London conference were to take stock of the situation, to highlight the global consensus on effective strategies to reduce maternal mortality and, above all, to galvanize political will and commitment to address this scandalous situation. Although technical issues were discussed in a large number of small sessions, in panel after panel participants hammered on the need to create a global movement around maternal and newborn survival. Whether that objective was achieved will be the focus of this paper. © 2008 Future Drugs Ltd.  \n",
              "3                                                                                                                                                                                                                                                                                                                                                                                                                                                                                                                                                                                                                                                                                                                                                                                                                                                                                                                                                                                                                                                                                                                                                                                                                                                                                                                                                                                                                                                                                                                                                                                                                                                                                      The circular patterns of calcium oxalate (CaOxa) crystals were first induced at defective sites of LB film of DPPC injured by potassium oxalate. As the crystallization time extend, the pattern of the crystals changed from a ring-shape to a solid circle. In comparison, the LB films without oxalate pretreatment only induced randomly growth of crystals. It was attributed to the destruction of molecular rearrangement at the boundaries of liquid condensed (LC) and liquid expanded (LE) phases of the LB film caused by oxalate. This model system might be used to mimic formation of CaOxa stones at surface of damaged renal epithelial membranes.  \n",
              "4                                                                                                                                                                                                                                                                                                                                                                                                                       Aim: Kidney transplant outcomes have improved over the past 15 years, partly due to improvements in immunosuppression. We used data from the Australia and New Zealand Dialysis and Transplant (ANZDATA) Registry to examine trends in immunosuppressive use post transplant. Methods: All adult (recipient age 16+ years) kidney-only transplants performed in Australia from April 1991 to December 2005 were followed to graft loss or December 2005. Immunosuppressive use at induction, 1, 3 and 5 years post transplant were analysed by transplant cohort. Results: Calcineurin-inhibitors (CNI) were used in most recipients for induction and maintenance immunosuppression, with increasing tacrolimus use. Induction cyclosporin dose increased since 2001 (from 5.8 to 7.9 mg/kg per day), but maintenance cyclosporin and tacrolimus dose decreased (from 3.8 to 3.0 mg/kg per day cyclosporin at 1 year post transplant). CNI-free induction increased since 2002 (from 1.4% to 8.4%), while CNI-free maintenance increased throughout the study period. Mycophenolates were the predominant antimetabolite used. Steroid-free maintenance decreased (from 22.7% to 8.7% at 1 year post transplant), as did median prednisolone doses (from 0.12 to 0.09 mg/kg per day at 1 year post transplant). Sirolimus or everolimus are increasingly used for CNI-sparing rather than as antimetabolites substitutes. OKT3 or antithymocyte globulin induction decreased, while anti-CD25 antibody usage increased from 9.5% to 57.1% since 2000. Conclusion: There is a trend to more potent induction immunosuppression with tacrolimus, mycophenolates and anti-CD-25 antibodies, but with CNI avoidance or minimization during maintenance phase. While steroid avoidance/cessation decreased, maintenance steroid dose has also decreased. Anti-CD25 antibodies are now used in >50% of recipients. © 2007 The Authors.  \n",
              "5  Au nanoparticles fully coated with ω-ferrocenyl hexanethiolate ligands, with average composition Au225(ω-ferrocenyl hexanethiolate)43, exhibit a unique combination of adsorption properties on Pt electrodes. The adsorbed layer is so robust that electrodes bearing submonolayer, monolayer, and multilayer quantities of these nanoparticles can be transferred to fresh electrolyte solutions and there exhibit stable ferrocene voltammetry over long periods of time. The kinetics of forming the robustly adsorbed layer are slow; monolayer and submonolayer deposition can be described by a rate law that is first order in nanoparticle concentration and in available electrode surface. The adsorption mechanism is proposed to involve entropically enhanced (multiple) ion-pair bridges between oxidized (ferrocenium) sites and certain specifically adsorbed electrolyte anions on the electrode. Adsorption is promoted by scanning to positive potentials (through the ferrocene wave) and by high concentrations of Bu4N+X- electrolyte (X- = ClO4-, PF6-) in the CH2Cl2 solvent; there is no adsorption if X- = p-toluenesulfonate or if the electrode is coated with an alkanethiolate monolayer. The electrode double layer capacity is not appreciably diminished by the adsorbed ferrocenated nanoparticles, which are gradually desorbed by scanning to potentials more negative than the electrode's potential of zero charge. At very slow scan rates, voltammetric current peaks are symmetrical and nearly reversible, but exhibit Efwhm considerably narrower (typically 35 mV) than ideally expected (90.6 mV, at 298 K) for a one-electron transfer or for reactions of multiple, independent redox centers with identical formal potentials. The peak narrowing is qualitatively explicable by a surface-activity effect invoking large, attractive lateral interactions between nanoparticles and, or alternatively, by a model in which ferrocene sites react serially at formal potentials that become successively altered as ion-pair bridges are formed. At faster scan rates, both ΔEpeak and Efwhm increase in a manner consistent with a combination of uncompensated ohmic resistance of the electrolyte solution and of the adsorbed film, as distinct from behavior produced by slow electron transfer.  \n",
              "6                                                                                                                                                 Headache is a common symptom that constitutes a major health problem to all countries in the world with a variable prevalence from about 20.2% in the African population to about 80% in populations of the civilized world. Community-based studies in African populations are still scanty, and the impact on health facility utilization and sickness absence from work is unknown.\\nAfter a simple random selection, 1540 urban workers and students of higher education completed a standardized self-administered questionnaire on headache. A total of 815 (52%), (620 (51%) men, 195 (60%) women) admitted to having suffered a headache requiring medication or medical consultation in the last year. Of these, 366 (23.7%) had recurrent headache not attributable to systemic disease. Of the total with recurrent headache, there was a significant preponderance of women over men with sex prevalence of 28.9% and 22.4%, respectively (X 2 P = 0.0001). Combined vascular-muscular-type of headache exceeded all types of headache, accounting for 35.8% of cases, followed by migraine accounting for 30.8% of cases. Organic disease was rare, accounting for 8.5% of cases, and psychogenic causes of headache were even rarer at less than 1.2% of cases.Within 2 months of onset of recurrent headaches, over 32% of sufferers had utilized the health facility at their place of work or study. A significant number of cases (175) had an average of 11.3 lost work days per year in comparison to a control group of 154 persons with an average of 5.7 lost work days per year for reasons other than headache (X 2 P = 0.0005).\\nIn summary, headache is probably rare in the African population as previously reported. However, the clinical manifestation of headache is similar to those observed in the civilized world. Whenever services are available, patients with headache will seek medical consultation. A significant number of days are lost from work due to severe headache in an urban population in Tanzania. This study underscores the need for early correct diagnosis and treatment of headache to reduce the number of work absences due to headache.  "
            ],
            "text/html": [
              "\n",
              "  <div id=\"df-f333b36a-d5de-4e0a-bb6a-4cea611b8861\">\n",
              "    <div class=\"colab-df-container\">\n",
              "      <div>\n",
              "<style scoped>\n",
              "    .dataframe tbody tr th:only-of-type {\n",
              "        vertical-align: middle;\n",
              "    }\n",
              "\n",
              "    .dataframe tbody tr th {\n",
              "        vertical-align: top;\n",
              "    }\n",
              "\n",
              "    .dataframe thead th {\n",
              "        text-align: right;\n",
              "    }\n",
              "</style>\n",
              "<table border=\"1\" class=\"dataframe\">\n",
              "  <thead>\n",
              "    <tr style=\"text-align: right;\">\n",
              "      <th></th>\n",
              "      <th>publication_date</th>\n",
              "      <th>title</th>\n",
              "      <th>doi</th>\n",
              "      <th>abstract</th>\n",
              "    </tr>\n",
              "  </thead>\n",
              "  <tbody>\n",
              "    <tr>\n",
              "      <th>0</th>\n",
              "      <td>2008-03-09</td>\n",
              "      <td>Mechanographic characteristics of adolescents and young adults with congenital heart disease</td>\n",
              "      <td>10.1007/s00431-007-0495-y</td>\n",
              "      <td>The present study comprised 29 adolescents and young adults (15 females, 14 males; aged 14.1-23.9 years) with congenital heart disease (CHD) and focused on the interaction between the biomechanical system and CHD. Individuals were characterized by auxological (height, weight), dynamometric (MIGF, maximal isometric grip force) and mechanograpic parameters (Vmax, maximal velocity; PJF, peak jump force; PJP, peak jump power; time of five stand-ups in chair-rising test). PJF, PJP and MIGF were transformed into height-related SD-scores. MIGF-SDS and PJP-SDS were lower in the CHD patients than in reference individuals. PJP-SDS was lower than PJF-SDS. PJP-SDS was correlated to Vmax (r=0.62) and to the time of five-stand-ups in chair-rising (r=-0.62). Transcutaneous oxygen saturation and NYHA classes were correlated to Vmax (r=0.42 and r=-0.57, respectively) and to chair-rising performance (r=-0.60 and r=0.50, respectively). To conclude, individuals with CHD are characterized by an impaired inter- and intramuscular coordination, which is characterized by a greater decrease in muscular power than muscle force.</td>\n",
              "    </tr>\n",
              "    <tr>\n",
              "      <th>1</th>\n",
              "      <td>2008-02-05</td>\n",
              "      <td>Treatment options in imatinib-resistant chronic myelogenous leukemia</td>\n",
              "      <td>10.1345/aph.1K303</td>\n",
              "      <td>Objective: To discuss new therapeutic options available in the treatment of chronic myelogenous leukemia (CML) in patients who failed or were intolerant to imatinib therapy.\\nSearch terms included imatinib, dasatinib, nilotinib, and chronic myelogenous leukemia.\\nStudy selection and data extraction: Meeting abstracts and studies that reported preclinical and Phase 1, 2, and 3 trials published in English are included.\\nData synthesis: Imatinib is the standard of care for CML; however, some patients develop resistance or are intolerant to the drug. Phase 1 and 2 clinical data for the more potent tyrosine kinase inhibitors, dasatinib and nilotinib, are promising. Hematologic and cytogenetic responses are reported with both. There does not appear to be cross-resistance between the drugs, although neither is effective against all mutations of the hallmark molecular marker, the Philadelphia chromosome. Novel agents are also being examined for the treatment of patients with CML, including aurora kinase and farnesyl transferase inhibitors, as well as combination therapies.\\nConclusions: Dasatinib and nilotinib are second-line options for patients who have CML and are resistant or intolerant to imatinib. Toxicity profiles between agents may differ. Clinical trials with these drugs and others are ongoing.</td>\n",
              "    </tr>\n",
              "    <tr>\n",
              "      <th>2</th>\n",
              "      <td>2008-01-12</td>\n",
              "      <td>Women deliver: A global conference</td>\n",
              "      <td>10.1586/17474108.3.1.33</td>\n",
              "      <td>A large international conference was held in London in October 2007 to celebrate 20 years of the Safe Motherhood Initiative. Launched in Nairobi, in 1987 by the WHO, the United Nations Population Fund and the World Bank, and joined by the United Nations Development Programme, the United Nations Children's Fund, the International Planned Parenthood Federation and the Population Council shortly thereafter, the initiative aimed at addressing the then neglected high maternal death rates in poor countries. Now, 20 years later, we can see that, while some progress has been made, the regions with the poorest maternal health have made the least progress: sub-Saharan Africa and South Asia. The objectives of the London conference were to take stock of the situation, to highlight the global consensus on effective strategies to reduce maternal mortality and, above all, to galvanize political will and commitment to address this scandalous situation. Although technical issues were discussed in a large number of small sessions, in panel after panel participants hammered on the need to create a global movement around maternal and newborn survival. Whether that objective was achieved will be the focus of this paper. © 2008 Future Drugs Ltd.</td>\n",
              "    </tr>\n",
              "    <tr>\n",
              "      <th>3</th>\n",
              "      <td>2008-03-20</td>\n",
              "      <td>Formation of circular patterns of calcium oxalate crystals at defective sites of Langmuir-Blodgett films</td>\n",
              "      <td>10.1016/j.colsurfa.2007.10.012</td>\n",
              "      <td>The circular patterns of calcium oxalate (CaOxa) crystals were first induced at defective sites of LB film of DPPC injured by potassium oxalate. As the crystallization time extend, the pattern of the crystals changed from a ring-shape to a solid circle. In comparison, the LB films without oxalate pretreatment only induced randomly growth of crystals. It was attributed to the destruction of molecular rearrangement at the boundaries of liquid condensed (LC) and liquid expanded (LE) phases of the LB film caused by oxalate. This model system might be used to mimic formation of CaOxa stones at surface of damaged renal epithelial membranes.</td>\n",
              "    </tr>\n",
              "    <tr>\n",
              "      <th>4</th>\n",
              "      <td>2008-04-07</td>\n",
              "      <td>Trends in adult post-kidney transplant immunosuppressive use in Australia, 1991-2005</td>\n",
              "      <td>10.1111/j.1440-1797.2007.00859.x</td>\n",
              "      <td>Aim: Kidney transplant outcomes have improved over the past 15 years, partly due to improvements in immunosuppression. We used data from the Australia and New Zealand Dialysis and Transplant (ANZDATA) Registry to examine trends in immunosuppressive use post transplant. Methods: All adult (recipient age 16+ years) kidney-only transplants performed in Australia from April 1991 to December 2005 were followed to graft loss or December 2005. Immunosuppressive use at induction, 1, 3 and 5 years post transplant were analysed by transplant cohort. Results: Calcineurin-inhibitors (CNI) were used in most recipients for induction and maintenance immunosuppression, with increasing tacrolimus use. Induction cyclosporin dose increased since 2001 (from 5.8 to 7.9 mg/kg per day), but maintenance cyclosporin and tacrolimus dose decreased (from 3.8 to 3.0 mg/kg per day cyclosporin at 1 year post transplant). CNI-free induction increased since 2002 (from 1.4% to 8.4%), while CNI-free maintenance increased throughout the study period. Mycophenolates were the predominant antimetabolite used. Steroid-free maintenance decreased (from 22.7% to 8.7% at 1 year post transplant), as did median prednisolone doses (from 0.12 to 0.09 mg/kg per day at 1 year post transplant). Sirolimus or everolimus are increasingly used for CNI-sparing rather than as antimetabolites substitutes. OKT3 or antithymocyte globulin induction decreased, while anti-CD25 antibody usage increased from 9.5% to 57.1% since 2000. Conclusion: There is a trend to more potent induction immunosuppression with tacrolimus, mycophenolates and anti-CD-25 antibodies, but with CNI avoidance or minimization during maintenance phase. While steroid avoidance/cessation decreased, maintenance steroid dose has also decreased. Anti-CD25 antibodies are now used in &gt;50% of recipients. © 2007 The Authors.</td>\n",
              "    </tr>\n",
              "    <tr>\n",
              "      <th>5</th>\n",
              "      <td>2008-02-13</td>\n",
              "      <td>Anion-Induced Adsorption of Ferrocenated Nanoparticles</td>\n",
              "      <td>10.1021/ja074161f</td>\n",
              "      <td>Au nanoparticles fully coated with ω-ferrocenyl hexanethiolate ligands, with average composition Au225(ω-ferrocenyl hexanethiolate)43, exhibit a unique combination of adsorption properties on Pt electrodes. The adsorbed layer is so robust that electrodes bearing submonolayer, monolayer, and multilayer quantities of these nanoparticles can be transferred to fresh electrolyte solutions and there exhibit stable ferrocene voltammetry over long periods of time. The kinetics of forming the robustly adsorbed layer are slow; monolayer and submonolayer deposition can be described by a rate law that is first order in nanoparticle concentration and in available electrode surface. The adsorption mechanism is proposed to involve entropically enhanced (multiple) ion-pair bridges between oxidized (ferrocenium) sites and certain specifically adsorbed electrolyte anions on the electrode. Adsorption is promoted by scanning to positive potentials (through the ferrocene wave) and by high concentrations of Bu4N+X- electrolyte (X- = ClO4-, PF6-) in the CH2Cl2 solvent; there is no adsorption if X- = p-toluenesulfonate or if the electrode is coated with an alkanethiolate monolayer. The electrode double layer capacity is not appreciably diminished by the adsorbed ferrocenated nanoparticles, which are gradually desorbed by scanning to potentials more negative than the electrode's potential of zero charge. At very slow scan rates, voltammetric current peaks are symmetrical and nearly reversible, but exhibit Efwhm considerably narrower (typically 35 mV) than ideally expected (90.6 mV, at 298 K) for a one-electron transfer or for reactions of multiple, independent redox centers with identical formal potentials. The peak narrowing is qualitatively explicable by a surface-activity effect invoking large, attractive lateral interactions between nanoparticles and, or alternatively, by a model in which ferrocene sites react serially at formal potentials that become successively altered as ion-pair bridges are formed. At faster scan rates, both ΔEpeak and Efwhm increase in a manner consistent with a combination of uncompensated ohmic resistance of the electrolyte solution and of the adsorbed film, as distinct from behavior produced by slow electron transfer.</td>\n",
              "    </tr>\n",
              "    <tr>\n",
              "      <th>6</th>\n",
              "      <td>2008-02-23</td>\n",
              "      <td>Headache in a Nonclinical Population in Dares Salaam, Tanzania. A Community-Based Study</td>\n",
              "      <td>10.1111/j.1526-4610.1995.hed3505273.x</td>\n",
              "      <td>Headache is a common symptom that constitutes a major health problem to all countries in the world with a variable prevalence from about 20.2% in the African population to about 80% in populations of the civilized world. Community-based studies in African populations are still scanty, and the impact on health facility utilization and sickness absence from work is unknown.\\nAfter a simple random selection, 1540 urban workers and students of higher education completed a standardized self-administered questionnaire on headache. A total of 815 (52%), (620 (51%) men, 195 (60%) women) admitted to having suffered a headache requiring medication or medical consultation in the last year. Of these, 366 (23.7%) had recurrent headache not attributable to systemic disease. Of the total with recurrent headache, there was a significant preponderance of women over men with sex prevalence of 28.9% and 22.4%, respectively (X 2 P = 0.0001). Combined vascular-muscular-type of headache exceeded all types of headache, accounting for 35.8% of cases, followed by migraine accounting for 30.8% of cases. Organic disease was rare, accounting for 8.5% of cases, and psychogenic causes of headache were even rarer at less than 1.2% of cases.Within 2 months of onset of recurrent headaches, over 32% of sufferers had utilized the health facility at their place of work or study. A significant number of cases (175) had an average of 11.3 lost work days per year in comparison to a control group of 154 persons with an average of 5.7 lost work days per year for reasons other than headache (X 2 P = 0.0005).\\nIn summary, headache is probably rare in the African population as previously reported. However, the clinical manifestation of headache is similar to those observed in the civilized world. Whenever services are available, patients with headache will seek medical consultation. A significant number of days are lost from work due to severe headache in an urban population in Tanzania. This study underscores the need for early correct diagnosis and treatment of headache to reduce the number of work absences due to headache.</td>\n",
              "    </tr>\n",
              "  </tbody>\n",
              "</table>\n",
              "</div>\n",
              "      <button class=\"colab-df-convert\" onclick=\"convertToInteractive('df-f333b36a-d5de-4e0a-bb6a-4cea611b8861')\"\n",
              "              title=\"Convert this dataframe to an interactive table.\"\n",
              "              style=\"display:none;\">\n",
              "        \n",
              "  <svg xmlns=\"http://www.w3.org/2000/svg\" height=\"24px\"viewBox=\"0 0 24 24\"\n",
              "       width=\"24px\">\n",
              "    <path d=\"M0 0h24v24H0V0z\" fill=\"none\"/>\n",
              "    <path d=\"M18.56 5.44l.94 2.06.94-2.06 2.06-.94-2.06-.94-.94-2.06-.94 2.06-2.06.94zm-11 1L8.5 8.5l.94-2.06 2.06-.94-2.06-.94L8.5 2.5l-.94 2.06-2.06.94zm10 10l.94 2.06.94-2.06 2.06-.94-2.06-.94-.94-2.06-.94 2.06-2.06.94z\"/><path d=\"M17.41 7.96l-1.37-1.37c-.4-.4-.92-.59-1.43-.59-.52 0-1.04.2-1.43.59L10.3 9.45l-7.72 7.72c-.78.78-.78 2.05 0 2.83L4 21.41c.39.39.9.59 1.41.59.51 0 1.02-.2 1.41-.59l7.78-7.78 2.81-2.81c.8-.78.8-2.07 0-2.86zM5.41 20L4 18.59l7.72-7.72 1.47 1.35L5.41 20z\"/>\n",
              "  </svg>\n",
              "      </button>\n",
              "      \n",
              "  <style>\n",
              "    .colab-df-container {\n",
              "      display:flex;\n",
              "      flex-wrap:wrap;\n",
              "      gap: 12px;\n",
              "    }\n",
              "\n",
              "    .colab-df-convert {\n",
              "      background-color: #E8F0FE;\n",
              "      border: none;\n",
              "      border-radius: 50%;\n",
              "      cursor: pointer;\n",
              "      display: none;\n",
              "      fill: #1967D2;\n",
              "      height: 32px;\n",
              "      padding: 0 0 0 0;\n",
              "      width: 32px;\n",
              "    }\n",
              "\n",
              "    .colab-df-convert:hover {\n",
              "      background-color: #E2EBFA;\n",
              "      box-shadow: 0px 1px 2px rgba(60, 64, 67, 0.3), 0px 1px 3px 1px rgba(60, 64, 67, 0.15);\n",
              "      fill: #174EA6;\n",
              "    }\n",
              "\n",
              "    [theme=dark] .colab-df-convert {\n",
              "      background-color: #3B4455;\n",
              "      fill: #D2E3FC;\n",
              "    }\n",
              "\n",
              "    [theme=dark] .colab-df-convert:hover {\n",
              "      background-color: #434B5C;\n",
              "      box-shadow: 0px 1px 3px 1px rgba(0, 0, 0, 0.15);\n",
              "      filter: drop-shadow(0px 1px 2px rgba(0, 0, 0, 0.3));\n",
              "      fill: #FFFFFF;\n",
              "    }\n",
              "  </style>\n",
              "\n",
              "      <script>\n",
              "        const buttonEl =\n",
              "          document.querySelector('#df-f333b36a-d5de-4e0a-bb6a-4cea611b8861 button.colab-df-convert');\n",
              "        buttonEl.style.display =\n",
              "          google.colab.kernel.accessAllowed ? 'block' : 'none';\n",
              "\n",
              "        async function convertToInteractive(key) {\n",
              "          const element = document.querySelector('#df-f333b36a-d5de-4e0a-bb6a-4cea611b8861');\n",
              "          const dataTable =\n",
              "            await google.colab.kernel.invokeFunction('convertToInteractive',\n",
              "                                                     [key], {});\n",
              "          if (!dataTable) return;\n",
              "\n",
              "          const docLinkHtml = 'Like what you see? Visit the ' +\n",
              "            '<a target=\"_blank\" href=https://colab.research.google.com/notebooks/data_table.ipynb>data table notebook</a>'\n",
              "            + ' to learn more about interactive tables.';\n",
              "          element.innerHTML = '';\n",
              "          dataTable['output_type'] = 'display_data';\n",
              "          await google.colab.output.renderOutput(dataTable, element);\n",
              "          const docLink = document.createElement('div');\n",
              "          docLink.innerHTML = docLinkHtml;\n",
              "          element.appendChild(docLink);\n",
              "        }\n",
              "      </script>\n",
              "    </div>\n",
              "  </div>\n",
              "  "
            ]
          },
          "metadata": {},
          "execution_count": 25
        }
      ],
      "source": [
        "# Use the parse-xml_data function to return a pandas dataframe\n",
        "xml_url = 'https://codility-frontend-prod.s3.amazonaws.com/media/task_static/structuring_data/static/xml_files.zip'\n",
        "data_pd = parse_xml_data(xml_url)\n",
        "df = pd.DataFrame(data_pd)\n",
        "df.head(10)\n"
      ]
    },
    {
      "cell_type": "code",
      "execution_count": null,
      "metadata": {
        "id": "dLbSRX0T3tkg"
      },
      "outputs": [],
      "source": []
    }
  ],
  "metadata": {
    "kernelspec": {
      "display_name": "Python 3.6.9 64-bit",
      "language": "python",
      "name": "python3"
    },
    "language_info": {
      "codemirror_mode": {
        "name": "ipython",
        "version": 3
      },
      "file_extension": ".py",
      "mimetype": "text/x-python",
      "name": "python",
      "nbconvert_exporter": "python",
      "pygments_lexer": "ipython3",
      "version": "3.6.9"
    },
    "orig_nbformat": 4,
    "vscode": {
      "interpreter": {
        "hash": "767d51c1340bd893661ea55ea3124f6de3c7a262a8b4abca0554b478b1e2ff90"
      }
    },
    "colab": {
      "provenance": [],
      "collapsed_sections": []
    }
  },
  "nbformat": 4,
  "nbformat_minor": 0
}