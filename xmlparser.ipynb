{
  "cells": [
    {
      "cell_type": "markdown",
      "source": [
        "# How to Read Xml file to a Pandas Dataframe using Python.\n",
        "This notebook provide the steps that one will take to read specific columns from an xml file using pandas, python and xmltodict parse function."
      ],
      "metadata": {
        "id": "19T7JskF6Om1"
      }
    },
    {
      "cell_type": "code",
      "source": [
        "# Install xmltodict\n",
        "!pip install xmltodict"
      ],
      "metadata": {
        "colab": {
          "base_uri": "https://localhost:8080/"
        },
        "id": "WGixARBW4xad",
        "outputId": "cd5de489-a9f6-4f6f-f066-bde7499f97e2"
      },
      "execution_count": 2,
      "outputs": [
        {
          "output_type": "stream",
          "name": "stdout",
          "text": [
            "Looking in indexes: https://pypi.org/simple, https://us-python.pkg.dev/colab-wheels/public/simple/\n",
            "Collecting xmltodict\n",
            "  Downloading xmltodict-0.13.0-py2.py3-none-any.whl (10.0 kB)\n",
            "Installing collected packages: xmltodict\n",
            "Successfully installed xmltodict-0.13.0\n"
          ]
        }
      ]
    },
    {
      "cell_type": "code",
      "execution_count": 3,
      "metadata": {
        "id": "elkcW38b3tkU"
      },
      "outputs": [],
      "source": [
        "# Import relevant libraries\n",
        "from collections import defaultdict\n",
        "import datetime\n",
        "import io\n",
        "import pandas as pd\n",
        "import requests\n",
        "import xmltodict\n",
        "import zipfile"
      ]
    },
    {
      "cell_type": "code",
      "execution_count": 4,
      "metadata": {
        "id": "bbz1Wmqp3tkb"
      },
      "outputs": [],
      "source": [
        "# Create a function that will read the xml url\n",
        "def read_s3_xml(xml_url):\n",
        "  studies_file = 'xml_files/studies.xml'\n",
        "  response = requests.get(xml_url)\n",
        "  with zipfile.ZipFile(io.BytesIO(response.content)) as zf:\n",
        "    with zf.open(studies_file) as f:\n",
        "      return xmltodict.parse(f.read())['bibdataset']['item']"
      ]
    },
    {
      "cell_type": "code",
      "execution_count": 22,
      "metadata": {
        "id": "ye4-C25I3tkd"
      },
      "outputs": [],
      "source": [
        "# Create a function that will return publication date in datetime format\n",
        "def parse_pub_date(head_data):\n",
        "  pub_date = head_data['source']['publicationdate']\n",
        "  pub_date = datetime.datetime(int(pub_date['year']), int(pub_date['month']), int(pub_date['day']))\n",
        "  return pub_date\n",
        "\n",
        "# Create a function that will return a default dictionary from an xml file\n",
        "def parse_xml_data(xml_file):\n",
        "  data_pd = defaultdict(list)\n",
        "  for data in read_s3_xml(xml_file):\n",
        "    head_data = data['bibrecord']['head']\n",
        "    data_pd['publication_date'].append(parse_pub_date(head_data).date())\n",
        "    data_pd['title'].append(head_data['citation-title']['titletext']['#text'])\n",
        "    data_pd['doi'].append(data['bibrecord']['item-info']['itemidlist'].get('ce:doi', ''))\n",
        "    data_pd['abstract'].append(head_data['abstracts']['abstract']['ce:para'])\n",
        "  return data_pd\n"
      ]
    },
    {
      "cell_type": "code",
      "source": [
        "# Display all items in the column using maximum column\n",
        "pd.set_option('display.max_columns', 100000)"
      ],
      "metadata": {
        "id": "N69B-6HX5W47"
      },
      "execution_count": 23,
      "outputs": []
    },
    {
      "cell_type": "code",
      "execution_count": 24,
      "metadata": {
        "colab": {
          "base_uri": "https://localhost:8080/",
          "height": 350
        },
        "id": "5dpGlxlL3tke",
        "outputId": "1639fde6-7707-4aae-8895-1ea4589a52d9"
      },
      "outputs": [
        {
          "output_type": "execute_result",
          "data": {
            "text/plain": [
              "  publication_date  \\\n",
              "0       2008-03-09   \n",
              "\n",
              "                                                                                          title  \\\n",
              "0  Mechanographic characteristics of adolescents and young adults with congenital heart disease   \n",
              "\n",
              "                         doi  \\\n",
              "0  10.1007/s00431-007-0495-y   \n",
              "\n",
              "                                                                                                                                                                                                                                                                                                                                                                                                                                                                                                                                                                                                                                                                                                                                                                                                                                                                                                                                                                                                                                                                                                                                                         abstract  \n",
              "0  The present study comprised 29 adolescents and young adults (15 females, 14 males; aged 14.1-23.9 years) with congenital heart disease (CHD) and focused on the interaction between the biomechanical system and CHD. Individuals were characterized by auxological (height, weight), dynamometric (MIGF, maximal isometric grip force) and mechanograpic parameters (Vmax, maximal velocity; PJF, peak jump force; PJP, peak jump power; time of five stand-ups in chair-rising test). PJF, PJP and MIGF were transformed into height-related SD-scores. MIGF-SDS and PJP-SDS were lower in the CHD patients than in reference individuals. PJP-SDS was lower than PJF-SDS. PJP-SDS was correlated to Vmax (r=0.62) and to the time of five-stand-ups in chair-rising (r=-0.62). Transcutaneous oxygen saturation and NYHA classes were correlated to Vmax (r=0.42 and r=-0.57, respectively) and to chair-rising performance (r=-0.60 and r=0.50, respectively). To conclude, individuals with CHD are characterized by an impaired inter- and intramuscular coordination, which is characterized by a greater decrease in muscular power than muscle force.  "
            ],
            "text/html": [
              "\n",
              "  <div id=\"df-78b84619-5385-4675-9833-64ba0f8e5ac6\">\n",
              "    <div class=\"colab-df-container\">\n",
              "      <div>\n",
              "<style scoped>\n",
              "    .dataframe tbody tr th:only-of-type {\n",
              "        vertical-align: middle;\n",
              "    }\n",
              "\n",
              "    .dataframe tbody tr th {\n",
              "        vertical-align: top;\n",
              "    }\n",
              "\n",
              "    .dataframe thead th {\n",
              "        text-align: right;\n",
              "    }\n",
              "</style>\n",
              "<table border=\"1\" class=\"dataframe\">\n",
              "  <thead>\n",
              "    <tr style=\"text-align: right;\">\n",
              "      <th></th>\n",
              "      <th>publication_date</th>\n",
              "      <th>title</th>\n",
              "      <th>doi</th>\n",
              "      <th>abstract</th>\n",
              "    </tr>\n",
              "  </thead>\n",
              "  <tbody>\n",
              "    <tr>\n",
              "      <th>0</th>\n",
              "      <td>2008-03-09</td>\n",
              "      <td>Mechanographic characteristics of adolescents and young adults with congenital heart disease</td>\n",
              "      <td>10.1007/s00431-007-0495-y</td>\n",
              "      <td>The present study comprised 29 adolescents and young adults (15 females, 14 males; aged 14.1-23.9 years) with congenital heart disease (CHD) and focused on the interaction between the biomechanical system and CHD. Individuals were characterized by auxological (height, weight), dynamometric (MIGF, maximal isometric grip force) and mechanograpic parameters (Vmax, maximal velocity; PJF, peak jump force; PJP, peak jump power; time of five stand-ups in chair-rising test). PJF, PJP and MIGF were transformed into height-related SD-scores. MIGF-SDS and PJP-SDS were lower in the CHD patients than in reference individuals. PJP-SDS was lower than PJF-SDS. PJP-SDS was correlated to Vmax (r=0.62) and to the time of five-stand-ups in chair-rising (r=-0.62). Transcutaneous oxygen saturation and NYHA classes were correlated to Vmax (r=0.42 and r=-0.57, respectively) and to chair-rising performance (r=-0.60 and r=0.50, respectively). To conclude, individuals with CHD are characterized by an impaired inter- and intramuscular coordination, which is characterized by a greater decrease in muscular power than muscle force.</td>\n",
              "    </tr>\n",
              "  </tbody>\n",
              "</table>\n",
              "</div>\n",
              "      <button class=\"colab-df-convert\" onclick=\"convertToInteractive('df-78b84619-5385-4675-9833-64ba0f8e5ac6')\"\n",
              "              title=\"Convert this dataframe to an interactive table.\"\n",
              "              style=\"display:none;\">\n",
              "        \n",
              "  <svg xmlns=\"http://www.w3.org/2000/svg\" height=\"24px\"viewBox=\"0 0 24 24\"\n",
              "       width=\"24px\">\n",
              "    <path d=\"M0 0h24v24H0V0z\" fill=\"none\"/>\n",
              "    <path d=\"M18.56 5.44l.94 2.06.94-2.06 2.06-.94-2.06-.94-.94-2.06-.94 2.06-2.06.94zm-11 1L8.5 8.5l.94-2.06 2.06-.94-2.06-.94L8.5 2.5l-.94 2.06-2.06.94zm10 10l.94 2.06.94-2.06 2.06-.94-2.06-.94-.94-2.06-.94 2.06-2.06.94z\"/><path d=\"M17.41 7.96l-1.37-1.37c-.4-.4-.92-.59-1.43-.59-.52 0-1.04.2-1.43.59L10.3 9.45l-7.72 7.72c-.78.78-.78 2.05 0 2.83L4 21.41c.39.39.9.59 1.41.59.51 0 1.02-.2 1.41-.59l7.78-7.78 2.81-2.81c.8-.78.8-2.07 0-2.86zM5.41 20L4 18.59l7.72-7.72 1.47 1.35L5.41 20z\"/>\n",
              "  </svg>\n",
              "      </button>\n",
              "      \n",
              "  <style>\n",
              "    .colab-df-container {\n",
              "      display:flex;\n",
              "      flex-wrap:wrap;\n",
              "      gap: 12px;\n",
              "    }\n",
              "\n",
              "    .colab-df-convert {\n",
              "      background-color: #E8F0FE;\n",
              "      border: none;\n",
              "      border-radius: 50%;\n",
              "      cursor: pointer;\n",
              "      display: none;\n",
              "      fill: #1967D2;\n",
              "      height: 32px;\n",
              "      padding: 0 0 0 0;\n",
              "      width: 32px;\n",
              "    }\n",
              "\n",
              "    .colab-df-convert:hover {\n",
              "      background-color: #E2EBFA;\n",
              "      box-shadow: 0px 1px 2px rgba(60, 64, 67, 0.3), 0px 1px 3px 1px rgba(60, 64, 67, 0.15);\n",
              "      fill: #174EA6;\n",
              "    }\n",
              "\n",
              "    [theme=dark] .colab-df-convert {\n",
              "      background-color: #3B4455;\n",
              "      fill: #D2E3FC;\n",
              "    }\n",
              "\n",
              "    [theme=dark] .colab-df-convert:hover {\n",
              "      background-color: #434B5C;\n",
              "      box-shadow: 0px 1px 3px 1px rgba(0, 0, 0, 0.15);\n",
              "      filter: drop-shadow(0px 1px 2px rgba(0, 0, 0, 0.3));\n",
              "      fill: #FFFFFF;\n",
              "    }\n",
              "  </style>\n",
              "\n",
              "      <script>\n",
              "        const buttonEl =\n",
              "          document.querySelector('#df-78b84619-5385-4675-9833-64ba0f8e5ac6 button.colab-df-convert');\n",
              "        buttonEl.style.display =\n",
              "          google.colab.kernel.accessAllowed ? 'block' : 'none';\n",
              "\n",
              "        async function convertToInteractive(key) {\n",
              "          const element = document.querySelector('#df-78b84619-5385-4675-9833-64ba0f8e5ac6');\n",
              "          const dataTable =\n",
              "            await google.colab.kernel.invokeFunction('convertToInteractive',\n",
              "                                                     [key], {});\n",
              "          if (!dataTable) return;\n",
              "\n",
              "          const docLinkHtml = 'Like what you see? Visit the ' +\n",
              "            '<a target=\"_blank\" href=https://colab.research.google.com/notebooks/data_table.ipynb>data table notebook</a>'\n",
              "            + ' to learn more about interactive tables.';\n",
              "          element.innerHTML = '';\n",
              "          dataTable['output_type'] = 'display_data';\n",
              "          await google.colab.output.renderOutput(dataTable, element);\n",
              "          const docLink = document.createElement('div');\n",
              "          docLink.innerHTML = docLinkHtml;\n",
              "          element.appendChild(docLink);\n",
              "        }\n",
              "      </script>\n",
              "    </div>\n",
              "  </div>\n",
              "  "
            ]
          },
          "metadata": {},
          "execution_count": 24
        }
      ],
      "source": [
        "# Use the parse-xml_data function to return a pandas dataframe\n",
        "xml_url = 'https://codility-frontend-prod.s3.amazonaws.com/media/task_static/structuring_data/static/xml_files.zip'\n",
        "data_pd = parse_xml_data(xml_url)\n",
        "df = pd.DataFrame(data_pd)\n",
        "df.head(1)\n"
      ]
    },
    {
      "cell_type": "code",
      "execution_count": null,
      "metadata": {
        "id": "dLbSRX0T3tkg"
      },
      "outputs": [],
      "source": []
    }
  ],
  "metadata": {
    "kernelspec": {
      "display_name": "Python 3.6.9 64-bit",
      "language": "python",
      "name": "python3"
    },
    "language_info": {
      "codemirror_mode": {
        "name": "ipython",
        "version": 3
      },
      "file_extension": ".py",
      "mimetype": "text/x-python",
      "name": "python",
      "nbconvert_exporter": "python",
      "pygments_lexer": "ipython3",
      "version": "3.6.9"
    },
    "orig_nbformat": 4,
    "vscode": {
      "interpreter": {
        "hash": "767d51c1340bd893661ea55ea3124f6de3c7a262a8b4abca0554b478b1e2ff90"
      }
    },
    "colab": {
      "provenance": [],
      "collapsed_sections": []
    }
  },
  "nbformat": 4,
  "nbformat_minor": 0
}